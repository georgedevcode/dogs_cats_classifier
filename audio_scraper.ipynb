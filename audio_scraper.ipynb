{
 "cells": [
  {
   "cell_type": "code",
   "execution_count": 8,
   "metadata": {},
   "outputs": [],
   "source": [
    "#https://github.com/shekharchander/tube_dl#convert\n",
    "#https://pypi.org/project/tube-dl/\n",
    "from tube_dl import Youtube as yt\n",
    "from tube_dl import extras"
   ]
  },
  {
   "cell_type": "code",
   "execution_count": 35,
   "metadata": {},
   "outputs": [],
   "source": [
    "dog_video_list = [\n",
    "    \"https://www.youtube.com/watch?v=WkU6zXSeKH8\",\n",
    "    # \"https://www.youtube.com/watch?v=daWZWclsoYk\",\n",
    "    # \"https://www.youtube.com/watch?v=9W3kPSrqGbo\",\n",
    "    # \"https://www.youtube.com/watch?v=RuwQ7_1Gpzk\",\n",
    "    # \"https://www.youtube.com/watch?v=yeeFKGLUbxU\",\n",
    "    # \"https://www.youtube.com/watch?v=QRwfXWVSN78\"\n",
    "]"
   ]
  },
  {
   "cell_type": "code",
   "execution_count": 30,
   "metadata": {},
   "outputs": [],
   "source": [
    "cat_video_list = [\n",
    "    \"https://www.youtube.com/watch?v=7n8dEJKfJPY\"\n",
    "]"
   ]
  },
  {
   "cell_type": "code",
   "execution_count": 36,
   "metadata": {},
   "outputs": [],
   "source": [
    "def scrape_audio(video_list):\n",
    "    scraping_audio = True\n",
    "    while(scraping_audio):\n",
    "        for video in video_list:\n",
    "            print(\"Downloading audio from this video {}\" .format(video))\n",
    "            try:\n",
    "                audio_yt = yt(video).formats.filter_by(only_audio=True)[0]\n",
    "                a = audio_yt.download()\n",
    "                extras.Convert(a, \"mp3\", add_meta=True)\n",
    "                print(\"Downloaded audio from this video: {}\" .format(video))\n",
    "            except:\n",
    "                print(\"Could not retrive this audio file from this video: {}\" .format(video))\n",
    "        scraping_audio = False"
   ]
  },
  {
   "cell_type": "code",
   "execution_count": 37,
   "metadata": {},
   "outputs": [
    {
     "name": "stdout",
     "output_type": "stream",
     "text": [
      "Downloading audio from this video https://www.youtube.com/watch?v=WkU6zXSeKH8\n",
      "Could not retrive this audio file from this video: https://www.youtube.com/watch?v=WkU6zXSeKH8\n"
     ]
    }
   ],
   "source": [
    "scrape_audio(dog_video_list)"
   ]
  }
 ],
 "metadata": {
  "interpreter": {
   "hash": "2a8fafc3c65fa761654d63d9cd80a1deb3c953c5664d0b483c5e3912396e10dd"
  },
  "kernelspec": {
   "display_name": "Python 3.9.5 64-bit",
   "name": "python3"
  },
  "language_info": {
   "codemirror_mode": {
    "name": "ipython",
    "version": 3
   },
   "file_extension": ".py",
   "mimetype": "text/x-python",
   "name": "python",
   "nbconvert_exporter": "python",
   "pygments_lexer": "ipython3",
   "version": "3.9.5"
  },
  "orig_nbformat": 4
 },
 "nbformat": 4,
 "nbformat_minor": 2
}
